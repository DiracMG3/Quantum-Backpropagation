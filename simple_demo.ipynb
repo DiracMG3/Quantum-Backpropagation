{
 "cells": [
  {
   "cell_type": "markdown",
   "metadata": {},
   "source": [
    "# Simple Demo of quantum data learning with MoMGrad\n",
    "Below we will outline a simple use case of our algorithm. We will be rotating a qubit by some arbitrary amount in the X, Yand Z axis and will then use MoMGrad to learn these rotations entirely in a quantum fashion. First we will get some imports out of the way and fix our initial pauli X,Y and Z parameters in the exponent."
   ]
  },
  {
   "cell_type": "code",
   "execution_count": 15,
   "metadata": {
    "collapsed": false
   },
   "outputs": [],
   "source": [
    "%matplotlib inline\n",
    "import numpy as np\n",
    "import pyquil.api as api\n",
    "import matplotlib.pyplot as plt\n",
    "from MoMGrad import MoMGrad1QB\n",
    "\n",
    "# a multiplicative factor of pi/2 in induced behind the scenes.\n",
    "X_param = 1.0\n",
    "Y_param = -1.0\n",
    "Z_param = 2.0\n",
    "\n",
    "qvm = api.QVMConnection()"
   ]
  },
  {
   "cell_type": "markdown",
   "metadata": {},
   "source": [
    "We will now create a MoMGrad Object, for which we must specify what pauli parameters our ground truth Unitary will enact. We do so in the following way\n",
    "### $U_{truth} = e^{\\frac{-i \\text{X_param}}{2} \\sigma_x}e^{\\frac{-i \\text{Y_param}}{2} \\sigma_y}e^{\\frac{-i \\text{Z_param}}{2} \\sigma_z}$\n",
    "Note that this is analogous to parameterizing Rx, Ry and Rz"
   ]
  },
  {
   "cell_type": "code",
   "execution_count": 16,
   "metadata": {
    "collapsed": false
   },
   "outputs": [],
   "source": [
    "arbitrary_1qubit = MoMGrad1QB(qvm, X_param, Y_param, Z_param)"
   ]
  },
  {
   "cell_type": "markdown",
   "metadata": {},
   "source": [
    "# Now Everything is setup and we can begin training!\n",
    "###Internally what we are doing when we make a call to \"train\" is minibatched MoMGrad with batch size 20, outlined below:\n",
    "\n",
    "\n",
    "1. Acquire samples of random 1qubit states (to use the language of machine learning coders our X's) with $\\hat{\\rho}^I = \\{|\\psi_{\\text{rand}_1} \\rangle, \\dots , |\\psi_{\\text{rand}_{20}}\\rangle\\}$ (for ease of coding we just use a python list and directly prepare these states by using random 2x2 Unitaries, but in a true chip, something like SWAPing the data on might be needed.)\n",
    "\n",
    "2. Next we get the output states of our $U_{\\text{truth}}$ transforming our input states (or again for the coders our Y's) with: $\\hat{\\rho}^O = \\{U_{\\text{truth}}|\\psi_{\\text{rand}_1} \\rangle, \\dots , U_{truth}|\\psi_{\\text{rand}_{20}}\\rangle\\}$\n",
    "\n",
    "3. Now for each of our 20 samples we would prepare the following circuit: <img src=\"diagram.png\"> <img src=\"1qb_diag.png\"> After doing so we will then measure the gradients $g_i$ (momentum) of our $\\hat{\\Phi_j}$ 's and store them classically in a list $\\{\\{g_{1,1}, \\dots, g_{1,\\text{n_params}}, \\}, \\{g_{2,1}, \\dots, g_{2,\\text{n_params}}, \\} \\dots, \\{g_{20,1}, \\dots, g_{20,\\text{n_params}} \\}\\}$\n",
    "\n",
    "4. Next we will update our each of our $\\hat{\\Phi_j}$'s with the mean of our 20 samples with:\n",
    "$\\hat{\\Phi_j} = \\hat{\\Phi_j} + \\text{mean}(\\{ g_{1,j}, \\dots, g_{20, j} \\}) * (\\eta \\text{ or learning_rate})$\n",
    "\n",
    "5. Finally we go back to step 1 until we have reached the maximum number of iterations or until convergance."
   ]
  },
  {
   "cell_type": "code",
   "execution_count": 17,
   "metadata": {
    "collapsed": false
   },
   "outputs": [
    {
     "name": "stdout",
     "output_type": "stream",
     "text": ["Done!\n"]
     ]
    }
   ],
   "source": [
    "# Rock and Roll (this one might take a while to run!)\n",
    "arbitrary_1qubit.train()"
   ]
  },
  {
   "cell_type": "markdown",
   "metadata": {},
   "source": [
    "# How did we do ?\n",
    "### Below are two quick summary plots of how well our learning went"
   ]
  },
  {
   "cell_type": "code",
   "execution_count": 18,
   "metadata": {
    "collapsed": false,
    "scrolled": true
   },
   "outputs": [
    {
     "data": {
      "text/plain": [
       "<matplotlib.legend.Legend at 0x7f74ded92e10>"
      ]
     },
     "execution_count": 18,
     "metadata": {},
     "output_type": "execute_result"
    },
    {
     "data": {
      "image/png": "iVBORw0KGgoAAAANSUhEUgAAAY0AAAEWCAYAAACaBstRAAAABHNCSVQICAgIfAhkiAAAAAlwSFlz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\n5qRhZmbVnDTMzKzaHX4AOVskXPRnAAAAAElFTkSuQmCC\n",
      "text/plain": [
       "<matplotlib.figure.Figure at 0x7f74dea80e50>"
      ]
     },
     "metadata": {},
     "output_type": "display_data"
    }
   ],
   "source": [
    "# Get Parameter histories\n",
    "X_history = np.asarray(arbitrary_1qubit.param_values)[:,0]\n",
    "Y_history = np.asarray(arbitrary_1qubit.param_values)[:,1]\n",
    "Z_history = np.asarray(arbitrary_1qubit.param_values)[:,2]\n",
    "\n",
    "# dotted lines for true values\n",
    "true_X = np.asarray([X_param for i in range(X_history.shape[0])])\n",
    "true_Y = np.asarray([Y_param for i in range(X_history.shape[0])])\n",
    "true_Z = np.asarray([Z_param for i in range(X_history.shape[0])])\n",
    "iteration = [i+1 for i in range(X_history.shape[0])]\n",
    "\n",
    "# note that we can get a learned rotation that doesn't follow the initial values we set out\n",
    "# the best indicator of learning is the fidelity plots\n",
    "plt.plot(iteration, X_history, color='Red', label='Learned pauli X value')\n",
    "plt.plot(iteration, Y_history, color='Blue', label='Learned pauli Y value')\n",
    "plt.plot(iteration, Z_history, color='Green', label='Learned pauli Z value')\n",
    "plt.plot(iteration, true_X, color='Black', dashes=[1,4])\n",
    "plt.plot(iteration, true_Y, color='Black', dashes=[1,4])\n",
    "plt.plot(iteration, true_Z, color='Black', dashes=[1,4])\n",
    "plt.title('Parameter Convergences')\n",
    "plt.xlabel('Iteration')\n",
    "plt.ylabel('Parameter value')\n",
    "plt.legend()"
   ]
  },
  {
   "cell_type": "markdown",
   "metadata": {},
   "source": [
    "###Now lets look at fidelities between the state transformed by the true unitary vs the learned unitary over time"
   ]
  },
  {
   "cell_type": "code",
   "execution_count": 19,
   "metadata": {
    "collapsed": false
   },
   "outputs": [
    {
     "data": {
      "text/plain": [
       "<matplotlib.legend.Legend at 0x7f74dea81210>"
      ]
     },
     "execution_count": 19,
     "metadata": {},
     "output_type": "execute_result"
    },
    {
     "data": {
      "image/png": "iVBORw0KGgoAAAANSUhEUgAAAYUAAAEKCAYAAAD9xUlFAAAABHNCSVQICAgIfAhkiAAAAAlwSFlz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\nItJMRUFERJr9fywFAiN0dui6AAAAAElFTkSuQmCC\n",
      "text/plain": [
       "<matplotlib.figure.Figure at 0x7f74dea81d50>"
      ]
     },
     "metadata": {},
     "output_type": "display_data"
    }
   ],
   "source": [
    "fids = arbitrary_1qubit.fid_values\n",
    "# the strange dip in the fidelities is an artifact of internal overflow...\n",
    "plt.plot([i+1 for i in range(len(fids))], fids, label='Fidelity', color='Orange')\n",
    "plt.xlabel('Iteration')\n",
    "plt.ylabel('Fidelity')\n",
    "plt.legend()"
   ]
  },
  {
   "cell_type": "code",
   "execution_count": 20,
   "metadata": {
    "collapsed": false
   },
   "outputs": [
    {
     "name": "stdout",
     "output_type": "stream",
     "text": [
      "Maximum fidelity during training 0.9963959283903504\n",
      "Iteration of best fidelity 75\n"
     ]
    }
   ],
   "source": [
    "print \"Maximum fidelity during training\", np.max(fids)\n",
    "print \"Iteration of best fidelity\", np.argmax(fids)"
   ]
  },
  {
   "cell_type": "code",
   "execution_count": 21,
   "metadata": {
    "collapsed": false
   },
   "outputs": [
    {
     "name": "stdout",
     "output_type": "stream",
     "text": [
      "True Unitary \n",
      "[[ 0.22270331-0.77224771j -0.12671235-0.58136107j]\n",
      " [ 0.12671235-0.58136107j  0.22270331+0.77224771j]]\n"
     ]
    }
   ],
   "source": [
    "print 'True Unitary \\n', arbitrary_1qubit.apply_para_gate(X_param, Y_param, Z_param)"
   ]
  },
  {
   "cell_type": "code",
   "execution_count": 22,
   "metadata": {
    "collapsed": false
   },
   "outputs": [
    {
     "name": "stdout",
     "output_type": "stream",
     "text": [
      "Learned Unitary \n",
      "[[ 0.24516541-0.72773345j -0.14356835-0.62424841j]\n",
      " [ 0.14356835-0.62424841j  0.24516541+0.72773345j]]\n"
     ]
    }
   ],
   "source": [
    "print 'Learned Unitary \\n', arbitrary_1qubit.apply_para_gate(X_history[-1], Y_history[-1], Z_history[-1])"
   ]
  },
  {
   "cell_type": "markdown",
   "metadata": {},
   "source": [
    "# Thank you!"
   ]
  }
 ],
 "metadata": {
  "kernelspec": {
   "display_name": "Python 2",
   "language": "python",
   "name": "python2"
  },
  "language_info": {
   "codemirror_mode": {
    "name": "ipython",
    "version": 2
   },
   "file_extension": ".py",
   "mimetype": "text/x-python",
   "name": "python",
   "nbconvert_exporter": "python",
   "pygments_lexer": "ipython2",
   "version": "2.7.6"
  }
 },
 "nbformat": 4,
 "nbformat_minor": 0
}
